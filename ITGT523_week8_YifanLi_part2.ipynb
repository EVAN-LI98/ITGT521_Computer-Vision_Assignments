{
 "cells": [
  {
   "cell_type": "code",
   "execution_count": null,
   "id": "59168b43",
   "metadata": {},
   "outputs": [],
   "source": [
    "#Assignment14.0"
   ]
  },
  {
   "cell_type": "code",
   "execution_count": 1,
   "id": "e4a9b438",
   "metadata": {
    "scrolled": true
   },
   "outputs": [
    {
     "name": "stdout",
     "output_type": "stream",
     "text": [
      "Requirement already satisfied: tensorflow==2.5.0 in c:\\users\\78089\\anaconda3\\envs\\python3\\lib\\site-packages (2.5.0)\n",
      "Requirement already satisfied: wrapt~=1.12.1 in c:\\users\\78089\\anaconda3\\envs\\python3\\lib\\site-packages (from tensorflow==2.5.0) (1.12.1)\n",
      "Requirement already satisfied: tensorboard~=2.5 in c:\\users\\78089\\anaconda3\\envs\\python3\\lib\\site-packages (from tensorflow==2.5.0) (2.11.0)\n",
      "Requirement already satisfied: h5py~=3.1.0 in c:\\users\\78089\\anaconda3\\envs\\python3\\lib\\site-packages (from tensorflow==2.5.0) (3.1.0)\n",
      "Requirement already satisfied: six~=1.15.0 in c:\\users\\78089\\anaconda3\\envs\\python3\\lib\\site-packages (from tensorflow==2.5.0) (1.15.0)\n",
      "Requirement already satisfied: astunparse~=1.6.3 in c:\\users\\78089\\anaconda3\\envs\\python3\\lib\\site-packages (from tensorflow==2.5.0) (1.6.3)\n",
      "Requirement already satisfied: flatbuffers~=1.12.0 in c:\\users\\78089\\anaconda3\\envs\\python3\\lib\\site-packages (from tensorflow==2.5.0) (1.12)\n",
      "Requirement already satisfied: typing-extensions~=3.7.4 in c:\\users\\78089\\anaconda3\\envs\\python3\\lib\\site-packages (from tensorflow==2.5.0) (3.7.4.3)\n",
      "Requirement already satisfied: opt-einsum~=3.3.0 in c:\\users\\78089\\anaconda3\\envs\\python3\\lib\\site-packages (from tensorflow==2.5.0) (3.3.0)\n",
      "Requirement already satisfied: absl-py~=0.10 in c:\\users\\78089\\anaconda3\\envs\\python3\\lib\\site-packages (from tensorflow==2.5.0) (0.15.0)\n",
      "Requirement already satisfied: numpy~=1.19.2 in c:\\users\\78089\\anaconda3\\envs\\python3\\lib\\site-packages (from tensorflow==2.5.0) (1.19.5)\n",
      "Requirement already satisfied: keras-nightly~=2.5.0.dev in c:\\users\\78089\\anaconda3\\envs\\python3\\lib\\site-packages (from tensorflow==2.5.0) (2.5.0.dev2021032900)\n",
      "Requirement already satisfied: grpcio~=1.34.0 in c:\\users\\78089\\anaconda3\\envs\\python3\\lib\\site-packages (from tensorflow==2.5.0) (1.34.1)\n",
      "Requirement already satisfied: google-pasta~=0.2 in c:\\users\\78089\\anaconda3\\envs\\python3\\lib\\site-packages (from tensorflow==2.5.0) (0.2.0)\n",
      "Requirement already satisfied: gast==0.4.0 in c:\\users\\78089\\anaconda3\\envs\\python3\\lib\\site-packages (from tensorflow==2.5.0) (0.4.0)\n",
      "Requirement already satisfied: keras-preprocessing~=1.1.2 in c:\\users\\78089\\anaconda3\\envs\\python3\\lib\\site-packages (from tensorflow==2.5.0) (1.1.2)\n",
      "Requirement already satisfied: wheel~=0.35 in c:\\users\\78089\\anaconda3\\envs\\python3\\lib\\site-packages (from tensorflow==2.5.0) (0.38.4)\n",
      "Requirement already satisfied: termcolor~=1.1.0 in c:\\users\\78089\\anaconda3\\envs\\python3\\lib\\site-packages (from tensorflow==2.5.0) (1.1.0)\n",
      "Requirement already satisfied: protobuf>=3.9.2 in c:\\users\\78089\\anaconda3\\envs\\python3\\lib\\site-packages (from tensorflow==2.5.0) (3.19.6)\n",
      "Requirement already satisfied: tensorflow-estimator<2.6.0,>=2.5.0rc0 in c:\\users\\78089\\anaconda3\\envs\\python3\\lib\\site-packages (from tensorflow==2.5.0) (2.5.0)\n",
      "Requirement already satisfied: markdown>=2.6.8 in c:\\users\\78089\\anaconda3\\envs\\python3\\lib\\site-packages (from tensorboard~=2.5->tensorflow==2.5.0) (3.4.1)\n",
      "Requirement already satisfied: requests<3,>=2.21.0 in c:\\users\\78089\\anaconda3\\envs\\python3\\lib\\site-packages (from tensorboard~=2.5->tensorflow==2.5.0) (2.28.1)\n",
      "Requirement already satisfied: setuptools>=41.0.0 in c:\\users\\78089\\anaconda3\\envs\\python3\\lib\\site-packages (from tensorboard~=2.5->tensorflow==2.5.0) (65.6.3)\n",
      "Requirement already satisfied: werkzeug>=1.0.1 in c:\\users\\78089\\anaconda3\\envs\\python3\\lib\\site-packages (from tensorboard~=2.5->tensorflow==2.5.0) (2.2.2)\n",
      "Requirement already satisfied: google-auth-oauthlib<0.5,>=0.4.1 in c:\\users\\78089\\anaconda3\\envs\\python3\\lib\\site-packages (from tensorboard~=2.5->tensorflow==2.5.0) (0.4.6)\n",
      "Requirement already satisfied: tensorboard-data-server<0.7.0,>=0.6.0 in c:\\users\\78089\\anaconda3\\envs\\python3\\lib\\site-packages (from tensorboard~=2.5->tensorflow==2.5.0) (0.6.1)\n",
      "Requirement already satisfied: tensorboard-plugin-wit>=1.6.0 in c:\\users\\78089\\anaconda3\\envs\\python3\\lib\\site-packages (from tensorboard~=2.5->tensorflow==2.5.0) (1.8.1)\n",
      "Requirement already satisfied: google-auth<3,>=1.6.3 in c:\\users\\78089\\anaconda3\\envs\\python3\\lib\\site-packages (from tensorboard~=2.5->tensorflow==2.5.0) (2.15.0)\n",
      "Requirement already satisfied: pyasn1-modules>=0.2.1 in c:\\users\\78089\\anaconda3\\envs\\python3\\lib\\site-packages (from google-auth<3,>=1.6.3->tensorboard~=2.5->tensorflow==2.5.0) (0.2.8)\n",
      "Requirement already satisfied: rsa<5,>=3.1.4 in c:\\users\\78089\\anaconda3\\envs\\python3\\lib\\site-packages (from google-auth<3,>=1.6.3->tensorboard~=2.5->tensorflow==2.5.0) (4.9)\n",
      "Requirement already satisfied: cachetools<6.0,>=2.0.0 in c:\\users\\78089\\anaconda3\\envs\\python3\\lib\\site-packages (from google-auth<3,>=1.6.3->tensorboard~=2.5->tensorflow==2.5.0) (5.2.0)\n",
      "Requirement already satisfied: requests-oauthlib>=0.7.0 in c:\\users\\78089\\anaconda3\\envs\\python3\\lib\\site-packages (from google-auth-oauthlib<0.5,>=0.4.1->tensorboard~=2.5->tensorflow==2.5.0) (1.3.1)\n",
      "Requirement already satisfied: importlib-metadata>=4.4 in c:\\users\\78089\\anaconda3\\envs\\python3\\lib\\site-packages (from markdown>=2.6.8->tensorboard~=2.5->tensorflow==2.5.0) (5.2.0)\n",
      "Requirement already satisfied: idna<4,>=2.5 in c:\\users\\78089\\anaconda3\\envs\\python3\\lib\\site-packages (from requests<3,>=2.21.0->tensorboard~=2.5->tensorflow==2.5.0) (3.4)\n",
      "Requirement already satisfied: urllib3<1.27,>=1.21.1 in c:\\users\\78089\\anaconda3\\envs\\python3\\lib\\site-packages (from requests<3,>=2.21.0->tensorboard~=2.5->tensorflow==2.5.0) (1.26.13)\n",
      "Requirement already satisfied: charset-normalizer<3,>=2 in c:\\users\\78089\\anaconda3\\envs\\python3\\lib\\site-packages (from requests<3,>=2.21.0->tensorboard~=2.5->tensorflow==2.5.0) (2.1.1)\n",
      "Requirement already satisfied: certifi>=2017.4.17 in c:\\users\\78089\\anaconda3\\envs\\python3\\lib\\site-packages (from requests<3,>=2.21.0->tensorboard~=2.5->tensorflow==2.5.0) (2022.12.7)\n",
      "Requirement already satisfied: MarkupSafe>=2.1.1 in c:\\users\\78089\\anaconda3\\envs\\python3\\lib\\site-packages (from werkzeug>=1.0.1->tensorboard~=2.5->tensorflow==2.5.0) (2.1.1)\n",
      "Requirement already satisfied: zipp>=0.5 in c:\\users\\78089\\anaconda3\\envs\\python3\\lib\\site-packages (from importlib-metadata>=4.4->markdown>=2.6.8->tensorboard~=2.5->tensorflow==2.5.0) (3.11.0)\n",
      "Requirement already satisfied: pyasn1<0.5.0,>=0.4.6 in c:\\users\\78089\\anaconda3\\envs\\python3\\lib\\site-packages (from pyasn1-modules>=0.2.1->google-auth<3,>=1.6.3->tensorboard~=2.5->tensorflow==2.5.0) (0.4.8)\n",
      "Requirement already satisfied: oauthlib>=3.0.0 in c:\\users\\78089\\anaconda3\\envs\\python3\\lib\\site-packages (from requests-oauthlib>=0.7.0->google-auth-oauthlib<0.5,>=0.4.1->tensorboard~=2.5->tensorflow==2.5.0) (3.2.2)\n",
      "Note: you may need to restart the kernel to use updated packages.\n"
     ]
    }
   ],
   "source": [
    "pip install tensorflow==2.5.0"
   ]
  },
  {
   "cell_type": "code",
   "execution_count": 2,
   "id": "637b74c7",
   "metadata": {},
   "outputs": [
    {
     "name": "stdout",
     "output_type": "stream",
     "text": [
      "G:\\handtracking\\handtracking-master\n"
     ]
    }
   ],
   "source": [
    "cd G:/handtracking/handtracking-master"
   ]
  },
  {
   "cell_type": "code",
   "execution_count": 3,
   "id": "adb1973f",
   "metadata": {
    "scrolled": true
   },
   "outputs": [],
   "source": [
    "from utils import detector_utils as detector_utils\n",
    "import cv2\n",
    "import tensorflow as tf\n",
    "import datetime\n",
    "import argparse"
   ]
  },
  {
   "cell_type": "code",
   "execution_count": 4,
   "id": "4a9ababf",
   "metadata": {},
   "outputs": [
    {
     "name": "stdout",
     "output_type": "stream",
     "text": [
      "> ====== loading HAND frozen graph into memory\n",
      ">  ====== Hand Inference graph loaded.\n"
     ]
    }
   ],
   "source": [
    "detection_graph,sess = detector_utils.load_inference_graph()"
   ]
  },
  {
   "cell_type": "code",
   "execution_count": 6,
   "id": "8b6a428b",
   "metadata": {},
   "outputs": [],
   "source": [
    "cap = cv2.VideoCapture(0)\n",
    "im_width, im_height = (cap.get(3), cap.get(4))\n",
    "num_hands_detect = 2\n",
    "\n",
    "cv2.namedWindow('Hand Detection', cv2.WINDOW_NORMAL)\n",
    "\n",
    "# Score threshold for displaying bounding boxes\n",
    "score_thresh=0.2\n",
    "        \n",
    "while True:\n",
    "    ret, image_np = cap.read()\n",
    "    image_np = cv2.flip(image_np, 1)\n",
    "    image_np = cv2.cvtColor(image_np, cv2.COLOR_BGR2RGB)\n",
    "    \n",
    "    boxes, scores = detector_utils.detect_objects(image_np, detection_graph, sess)\n",
    "    detector_utils.draw_box_on_image(num_hands_detect, score_thresh,\n",
    "                                         scores, boxes, im_width, im_height,\n",
    "                                         image_np)\n",
    "                                                 \n",
    "    cv2.imshow('Hand Detection',cv2.cvtColor(image_np, cv2.COLOR_RGB2BGR))\n",
    "    if cv2.waitKey(25) & 0xFF == 27:\n",
    "        cv2.destroyAllWindows()\n",
    "        break\n",
    "\n",
    "cap.release()"
   ]
  },
  {
   "cell_type": "code",
   "execution_count": null,
   "id": "b60243be",
   "metadata": {},
   "outputs": [],
   "source": []
  }
 ],
 "metadata": {
  "kernelspec": {
   "display_name": "Python 3 (ipykernel)",
   "language": "python",
   "name": "python3"
  },
  "language_info": {
   "codemirror_mode": {
    "name": "ipython",
    "version": 3
   },
   "file_extension": ".py",
   "mimetype": "text/x-python",
   "name": "python",
   "nbconvert_exporter": "python",
   "pygments_lexer": "ipython3",
   "version": "3.9.15"
  }
 },
 "nbformat": 4,
 "nbformat_minor": 5
}
