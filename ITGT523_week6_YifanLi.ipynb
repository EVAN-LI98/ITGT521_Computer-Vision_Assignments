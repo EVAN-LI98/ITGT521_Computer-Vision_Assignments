{
  "nbformat": 4,
  "nbformat_minor": 0,
  "metadata": {
    "colab": {
      "provenance": [],
      "collapsed_sections": [
        "Td6dCom65OSw"
      ]
    },
    "kernelspec": {
      "name": "python3",
      "display_name": "Python 3"
    },
    "language_info": {
      "name": "python"
    },
    "accelerator": "GPU",
    "gpuClass": "standard"
  },
  "cells": [
    {
      "cell_type": "code",
      "execution_count": null,
      "metadata": {
        "colab": {
          "base_uri": "https://localhost:8080/"
        },
        "id": "AD8Wc1iet5ZL",
        "outputId": "d70985fc-079a-4a90-a8ce-c789d6e0ff40"
      },
      "outputs": [
        {
          "output_type": "stream",
          "name": "stdout",
          "text": [
            "Mounted at /content/drive\n"
          ]
        }
      ],
      "source": [
        "from google.colab import drive\n",
        "drive.mount('/content/drive')"
      ]
    },
    {
      "cell_type": "code",
      "source": [
        "%cd /content/drive/MyDrive/Colab Notebooks"
      ],
      "metadata": {
        "colab": {
          "base_uri": "https://localhost:8080/"
        },
        "id": "gk9ILE4XurVm",
        "outputId": "b34db04e-0404-46e4-cd9b-cf0ffd70f6fc"
      },
      "execution_count": null,
      "outputs": [
        {
          "output_type": "stream",
          "name": "stdout",
          "text": [
            "/content/drive/MyDrive/Colab Notebooks\n"
          ]
        }
      ]
    },
    {
      "cell_type": "markdown",
      "source": [
        "# **Assignment8.1 part2**"
      ],
      "metadata": {
        "id": "kZYukJw2xYQL"
      }
    },
    {
      "cell_type": "code",
      "source": [
        "!pip install git+https://github.com/rcmalli/keras-vggface.git\n",
        "# Check the successful of the installation\n",
        "!pip install keras_vggface\n",
        "!pip show keras-vggface\n",
        "!pip install keras_applications\n",
        "!pip install keras"
      ],
      "metadata": {
        "colab": {
          "base_uri": "https://localhost:8080/"
        },
        "id": "-Xzd6TE0vQEL",
        "outputId": "c3c857f4-db54-4a32-9e6c-e2ef9de7c132"
      },
      "execution_count": null,
      "outputs": [
        {
          "output_type": "stream",
          "name": "stdout",
          "text": [
            "Looking in indexes: https://pypi.org/simple, https://us-python.pkg.dev/colab-wheels/public/simple/\n",
            "Collecting git+https://github.com/rcmalli/keras-vggface.git\n",
            "  Cloning https://github.com/rcmalli/keras-vggface.git to /tmp/pip-req-build-cq5c43cp\n",
            "  Running command git clone --filter=blob:none --quiet https://github.com/rcmalli/keras-vggface.git /tmp/pip-req-build-cq5c43cp\n",
            "  Resolved https://github.com/rcmalli/keras-vggface.git to commit 719ad75625fe51436b9a9479114b3d136847e11a\n",
            "  Preparing metadata (setup.py) ... \u001b[?25l\u001b[?25hdone\n",
            "Requirement already satisfied: numpy>=1.9.1 in /usr/local/lib/python3.8/dist-packages (from keras-vggface==0.6) (1.21.6)\n",
            "Requirement already satisfied: scipy>=0.14 in /usr/local/lib/python3.8/dist-packages (from keras-vggface==0.6) (1.7.3)\n",
            "Requirement already satisfied: h5py in /usr/local/lib/python3.8/dist-packages (from keras-vggface==0.6) (3.1.0)\n",
            "Requirement already satisfied: pillow in /usr/local/lib/python3.8/dist-packages (from keras-vggface==0.6) (7.1.2)\n",
            "Requirement already satisfied: keras in /usr/local/lib/python3.8/dist-packages (from keras-vggface==0.6) (2.9.0)\n",
            "Requirement already satisfied: six>=1.9.0 in /usr/local/lib/python3.8/dist-packages (from keras-vggface==0.6) (1.15.0)\n",
            "Requirement already satisfied: pyyaml in /usr/local/lib/python3.8/dist-packages (from keras-vggface==0.6) (6.0)\n",
            "Building wheels for collected packages: keras-vggface\n",
            "  Building wheel for keras-vggface (setup.py) ... \u001b[?25l\u001b[?25hdone\n",
            "  Created wheel for keras-vggface: filename=keras_vggface-0.6-py3-none-any.whl size=8325 sha256=a3e4f6cb13af1c4b1166fadf042ba8b035bd1c22889eaa7bd2eb95ea3fd64df9\n",
            "  Stored in directory: /tmp/pip-ephem-wheel-cache-wipqjjn9/wheels/24/de/3d/9a0fad8c64abbc63b7fb8ddcdf1aa0a4c04a98d7936e989a29\n",
            "Successfully built keras-vggface\n",
            "Installing collected packages: keras-vggface\n",
            "Successfully installed keras-vggface-0.6\n",
            "Looking in indexes: https://pypi.org/simple, https://us-python.pkg.dev/colab-wheels/public/simple/\n",
            "Requirement already satisfied: keras_vggface in /usr/local/lib/python3.8/dist-packages (0.6)\n",
            "Requirement already satisfied: scipy>=0.14 in /usr/local/lib/python3.8/dist-packages (from keras_vggface) (1.7.3)\n",
            "Requirement already satisfied: pyyaml in /usr/local/lib/python3.8/dist-packages (from keras_vggface) (6.0)\n",
            "Requirement already satisfied: keras in /usr/local/lib/python3.8/dist-packages (from keras_vggface) (2.9.0)\n",
            "Requirement already satisfied: h5py in /usr/local/lib/python3.8/dist-packages (from keras_vggface) (3.1.0)\n",
            "Requirement already satisfied: six>=1.9.0 in /usr/local/lib/python3.8/dist-packages (from keras_vggface) (1.15.0)\n",
            "Requirement already satisfied: numpy>=1.9.1 in /usr/local/lib/python3.8/dist-packages (from keras_vggface) (1.21.6)\n",
            "Requirement already satisfied: pillow in /usr/local/lib/python3.8/dist-packages (from keras_vggface) (7.1.2)\n",
            "Name: keras-vggface\n",
            "Version: 0.6\n",
            "Summary: VGGFace implementation with Keras framework\n",
            "Home-page: https://github.com/rcmalli/keras-vggface\n",
            "Author: Refik Can MALLI\n",
            "Author-email: mallir@itu.edu.tr\n",
            "License: MIT\n",
            "Location: /usr/local/lib/python3.8/dist-packages\n",
            "Requires: h5py, keras, numpy, pillow, pyyaml, scipy, six\n",
            "Required-by: \n",
            "Looking in indexes: https://pypi.org/simple, https://us-python.pkg.dev/colab-wheels/public/simple/\n",
            "Collecting keras_applications\n",
            "  Downloading Keras_Applications-1.0.8-py3-none-any.whl (50 kB)\n",
            "\u001b[2K     \u001b[90m━━━━━━━━━━━━━━━━━━━━━━━━━━━━━━━━━━━━━━━━\u001b[0m \u001b[32m50.7/50.7 KB\u001b[0m \u001b[31m4.8 MB/s\u001b[0m eta \u001b[36m0:00:00\u001b[0m\n",
            "\u001b[?25hRequirement already satisfied: h5py in /usr/local/lib/python3.8/dist-packages (from keras_applications) (3.1.0)\n",
            "Requirement already satisfied: numpy>=1.9.1 in /usr/local/lib/python3.8/dist-packages (from keras_applications) (1.21.6)\n",
            "Installing collected packages: keras_applications\n",
            "Successfully installed keras_applications-1.0.8\n",
            "Looking in indexes: https://pypi.org/simple, https://us-python.pkg.dev/colab-wheels/public/simple/\n",
            "Requirement already satisfied: keras in /usr/local/lib/python3.8/dist-packages (2.9.0)\n"
          ]
        }
      ]
    },
    {
      "cell_type": "code",
      "source": [
        "from keras_vggface.vggface import VGGFace"
      ],
      "metadata": {
        "id": "hy14cxx3vlq8"
      },
      "execution_count": null,
      "outputs": []
    },
    {
      "cell_type": "code",
      "source": [
        "from keras_vggface.vggface import VGGFace\n",
        "# Based models\n",
        "#vggface = VGGFace(model='vgg16')\n",
        "vggface = VGGFace(model='resnet50')\n",
        "#vggface = VGGFace(model='senet50')"
      ],
      "metadata": {
        "colab": {
          "base_uri": "https://localhost:8080/"
        },
        "id": "RmlZiGjkw31_",
        "outputId": "6193fa61-9622-46b7-8481-69ba94061080"
      },
      "execution_count": null,
      "outputs": [
        {
          "output_type": "stream",
          "name": "stdout",
          "text": [
            "Downloading data from https://github.com/rcmalli/keras-vggface/releases/download/v2.0/rcmalli_vggface_tf_resnet50.h5\n",
            "165439116/165439116 [==============================] - 25s 0us/step\n"
          ]
        }
      ]
    },
    {
      "cell_type": "code",
      "source": [
        "from keras.layers import Dense,GlobalAveragePooling2D,Flatten\n",
        "from keras.preprocessing import image\n",
        "from keras.applications.mobilenet import preprocess_input\n",
        "from keras.preprocessing.image import ImageDataGenerator\n",
        "from keras.models import Model\n",
        "\n",
        "num_classes = 20\n",
        "\n",
        "vgg_model = VGGFace(include_top=False, input_shape=(224, 224, 3)) #导入的图片尺寸size\n",
        "last_layer = vgg_model.get_layer('pool5').output\n",
        "x = Flatten(name='flatten')(last_layer)\n",
        "out = Dense(num_classes, activation='softmax', name='classifier')(x)\n",
        "custom_vgg_model = Model(vgg_model.input, out)\n",
        "custom_vgg_model.summary()"
      ],
      "metadata": {
        "colab": {
          "base_uri": "https://localhost:8080/"
        },
        "id": "dRfqc50dw3_4",
        "outputId": "66c0e0f4-91a1-4ee4-b966-8922c6cd6b91"
      },
      "execution_count": null,
      "outputs": [
        {
          "output_type": "stream",
          "name": "stdout",
          "text": [
            "Downloading data from https://github.com/rcmalli/keras-vggface/releases/download/v2.0/rcmalli_vggface_tf_notop_vgg16.h5\n",
            "58909280/58909280 [==============================] - 0s 0us/step\n",
            "Model: \"model\"\n",
            "_________________________________________________________________\n",
            " Layer (type)                Output Shape              Param #   \n",
            "=================================================================\n",
            " input_2 (InputLayer)        [(None, 224, 224, 3)]     0         \n",
            "                                                                 \n",
            " conv1_1 (Conv2D)            (None, 224, 224, 64)      1792      \n",
            "                                                                 \n",
            " conv1_2 (Conv2D)            (None, 224, 224, 64)      36928     \n",
            "                                                                 \n",
            " pool1 (MaxPooling2D)        (None, 112, 112, 64)      0         \n",
            "                                                                 \n",
            " conv2_1 (Conv2D)            (None, 112, 112, 128)     73856     \n",
            "                                                                 \n",
            " conv2_2 (Conv2D)            (None, 112, 112, 128)     147584    \n",
            "                                                                 \n",
            " pool2 (MaxPooling2D)        (None, 56, 56, 128)       0         \n",
            "                                                                 \n",
            " conv3_1 (Conv2D)            (None, 56, 56, 256)       295168    \n",
            "                                                                 \n",
            " conv3_2 (Conv2D)            (None, 56, 56, 256)       590080    \n",
            "                                                                 \n",
            " conv3_3 (Conv2D)            (None, 56, 56, 256)       590080    \n",
            "                                                                 \n",
            " pool3 (MaxPooling2D)        (None, 28, 28, 256)       0         \n",
            "                                                                 \n",
            " conv4_1 (Conv2D)            (None, 28, 28, 512)       1180160   \n",
            "                                                                 \n",
            " conv4_2 (Conv2D)            (None, 28, 28, 512)       2359808   \n",
            "                                                                 \n",
            " conv4_3 (Conv2D)            (None, 28, 28, 512)       2359808   \n",
            "                                                                 \n",
            " pool4 (MaxPooling2D)        (None, 14, 14, 512)       0         \n",
            "                                                                 \n",
            " conv5_1 (Conv2D)            (None, 14, 14, 512)       2359808   \n",
            "                                                                 \n",
            " conv5_2 (Conv2D)            (None, 14, 14, 512)       2359808   \n",
            "                                                                 \n",
            " conv5_3 (Conv2D)            (None, 14, 14, 512)       2359808   \n",
            "                                                                 \n",
            " pool5 (MaxPooling2D)        (None, 7, 7, 512)         0         \n",
            "                                                                 \n",
            " flatten (Flatten)           (None, 25088)             0         \n",
            "                                                                 \n",
            " classifier (Dense)          (None, 20)                501780    \n",
            "                                                                 \n",
            "=================================================================\n",
            "Total params: 15,216,468\n",
            "Trainable params: 15,216,468\n",
            "Non-trainable params: 0\n",
            "_________________________________________________________________\n"
          ]
        }
      ]
    },
    {
      "cell_type": "code",
      "source": [
        "img_rows, img_cols = 224, 224\n",
        "input_shape = (img_rows, img_cols, 3)\n",
        "\n",
        "train_datagen = ImageDataGenerator(rescale=1./255)\n",
        "train_generator = train_datagen.flow_from_directory('/content/drive/MyDrive/dataset/gt_db_train/',target_size=(img_rows,img_cols),batch_size=20,class_mode='categorical', shuffle=True)\n",
        "step_size_train = int(round(train_generator.n/train_generator.batch_size))\n",
        "\n",
        "val_datagen = ImageDataGenerator(rescale=1./255)\n",
        "val_generator = val_datagen.flow_from_directory('/content/drive/MyDrive/dataset/gt_db_val/',target_size=(img_rows,img_cols),batch_size=20,class_mode='categorical', shuffle=True)\n",
        "step_size_val = int(round(val_generator.n/val_generator.batch_size))"
      ],
      "metadata": {
        "colab": {
          "base_uri": "https://localhost:8080/"
        },
        "id": "9HTJnQOGzjGl",
        "outputId": "7eadde07-28b6-4fa9-b879-a0444b63c091"
      },
      "execution_count": null,
      "outputs": [
        {
          "output_type": "stream",
          "name": "stdout",
          "text": [
            "Found 200 images belonging to 20 classes.\n",
            "Found 100 images belonging to 20 classes.\n"
          ]
        }
      ]
    },
    {
      "cell_type": "code",
      "source": [
        "import keras\n",
        "from keras.optimizers import SGD, Adam\n",
        "\n",
        "adam = Adam(lr=0.0003)\n",
        "custom_vgg_model.compile(loss=keras.losses.categorical_crossentropy,\n",
        "              optimizer=adam,\n",
        "              metrics=['accuracy'])\n",
        "history = custom_vgg_model.fit_generator(generator=train_generator,\n",
        "                   steps_per_epoch=step_size_train,epochs=20, \n",
        "                   validation_data=val_generator,\n",
        "                   validation_steps=step_size_val)\n",
        "\n"
      ],
      "metadata": {
        "colab": {
          "base_uri": "https://localhost:8080/"
        },
        "id": "qMbDwqRFzjOg",
        "outputId": "6817c32b-79fa-4482-d6e4-ec704daef8b2"
      },
      "execution_count": null,
      "outputs": [
        {
          "output_type": "stream",
          "name": "stderr",
          "text": [
            "<ipython-input-18-26d93f13c3cb>:8: UserWarning: `Model.fit_generator` is deprecated and will be removed in a future version. Please use `Model.fit`, which supports generators.\n",
            "  history = custom_vgg_model.fit_generator(generator=train_generator,\n"
          ]
        },
        {
          "output_type": "stream",
          "name": "stdout",
          "text": [
            "Epoch 1/20\n",
            "10/10 [==============================] - 77s 8s/step - loss: 2.8053 - accuracy: 0.1950 - val_loss: 2.0470 - val_accuracy: 0.5500\n",
            "Epoch 2/20\n",
            "10/10 [==============================] - 4s 418ms/step - loss: 1.0375 - accuracy: 0.7450 - val_loss: 0.3078 - val_accuracy: 0.8900\n",
            "Epoch 3/20\n",
            "10/10 [==============================] - 4s 407ms/step - loss: 0.3759 - accuracy: 0.9100 - val_loss: 0.6957 - val_accuracy: 0.8400\n",
            "Epoch 4/20\n",
            "10/10 [==============================] - 4s 408ms/step - loss: 0.2252 - accuracy: 0.9600 - val_loss: 0.0079 - val_accuracy: 1.0000\n",
            "Epoch 5/20\n",
            "10/10 [==============================] - 4s 412ms/step - loss: 0.0567 - accuracy: 0.9800 - val_loss: 0.0797 - val_accuracy: 0.9500\n",
            "Epoch 6/20\n",
            "10/10 [==============================] - 4s 411ms/step - loss: 0.0358 - accuracy: 0.9900 - val_loss: 0.0403 - val_accuracy: 0.9900\n",
            "Epoch 7/20\n",
            "10/10 [==============================] - 4s 410ms/step - loss: 0.0123 - accuracy: 0.9950 - val_loss: 0.0016 - val_accuracy: 1.0000\n",
            "Epoch 8/20\n",
            "10/10 [==============================] - 4s 411ms/step - loss: 0.1906 - accuracy: 0.9650 - val_loss: 0.0204 - val_accuracy: 1.0000\n",
            "Epoch 9/20\n",
            "10/10 [==============================] - 4s 413ms/step - loss: 0.1612 - accuracy: 0.9600 - val_loss: 0.0593 - val_accuracy: 0.9500\n",
            "Epoch 10/20\n",
            "10/10 [==============================] - 4s 411ms/step - loss: 0.0475 - accuracy: 0.9750 - val_loss: 0.0140 - val_accuracy: 1.0000\n",
            "Epoch 11/20\n",
            "10/10 [==============================] - 4s 411ms/step - loss: 0.0417 - accuracy: 0.9850 - val_loss: 0.0511 - val_accuracy: 0.9900\n",
            "Epoch 12/20\n",
            "10/10 [==============================] - 4s 415ms/step - loss: 0.1310 - accuracy: 0.9700 - val_loss: 0.1024 - val_accuracy: 0.9800\n",
            "Epoch 13/20\n",
            "10/10 [==============================] - 4s 411ms/step - loss: 0.0664 - accuracy: 0.9800 - val_loss: 0.2096 - val_accuracy: 0.9400\n",
            "Epoch 14/20\n",
            "10/10 [==============================] - 4s 412ms/step - loss: 0.0342 - accuracy: 0.9850 - val_loss: 0.0441 - val_accuracy: 0.9900\n",
            "Epoch 15/20\n",
            "10/10 [==============================] - 4s 413ms/step - loss: 0.4634 - accuracy: 0.9450 - val_loss: 0.1016 - val_accuracy: 0.9500\n",
            "Epoch 16/20\n",
            "10/10 [==============================] - 4s 448ms/step - loss: 0.2544 - accuracy: 0.9400 - val_loss: 0.9907 - val_accuracy: 0.8800\n",
            "Epoch 17/20\n",
            "10/10 [==============================] - 4s 431ms/step - loss: 0.2171 - accuracy: 0.9500 - val_loss: 0.0404 - val_accuracy: 0.9900\n",
            "Epoch 18/20\n",
            "10/10 [==============================] - 4s 414ms/step - loss: 0.0279 - accuracy: 0.9900 - val_loss: 0.0441 - val_accuracy: 0.9900\n",
            "Epoch 19/20\n",
            "10/10 [==============================] - 4s 413ms/step - loss: 0.1121 - accuracy: 0.9800 - val_loss: 0.0850 - val_accuracy: 0.9700\n",
            "Epoch 20/20\n",
            "10/10 [==============================] - 4s 413ms/step - loss: 0.0419 - accuracy: 0.9900 - val_loss: 0.1080 - val_accuracy: 0.9400\n"
          ]
        }
      ]
    },
    {
      "cell_type": "markdown",
      "source": [
        "# **Assignment8.2**"
      ],
      "metadata": {
        "id": "qL_FgBHY4MM4"
      }
    },
    {
      "cell_type": "code",
      "source": [
        "import matplotlib\n",
        "import matplotlib.pyplot as plt\n",
        "# Plot training accuracy values\n",
        "plt.plot(history.history['accuracy'])\n",
        "plt.plot(history.history['val_accuracy'])\n",
        "plt.title('Model Acuracy')\n",
        "plt.ylabel('Accuracy')\n",
        "plt.xlabel('Epoch')\n",
        "plt.legend(['Train','Validate'], loc='upper left')\n",
        "plt.savefig('/content/drive/MyDrive/dataset/Accuracy.png')\n",
        "plt.show()\n",
        "\n",
        "# Plot training loss values\n",
        "plt.plot(history.history['loss'])\n",
        "plt.plot(history.history['val_loss'])\n",
        "plt.title('Model Loss')\n",
        "plt.ylabel('Loss')\n",
        "plt.xlabel('Epoch')\n",
        "plt.legend(['Train','Validate'], loc='upper left')\n",
        "plt.savefig('/content/drive/MyDrive/dataset/Loss.png')\n",
        "plt.show()\n"
      ],
      "metadata": {
        "colab": {
          "base_uri": "https://localhost:8080/",
          "height": 573
        },
        "id": "VlZ6oDxfzjWV",
        "outputId": "b03e5bc5-1168-4e13-b7be-f6ee764ddfbf"
      },
      "execution_count": null,
      "outputs": [
        {
          "output_type": "display_data",
          "data": {
            "text/plain": [
              "<Figure size 432x288 with 1 Axes>"
            ],
            "image/png": "[encoded data removed]"
          },
          "metadata": {
            "needs_background": "light"
          }
        },
        {
          "output_type": "display_data",
          "data": {
            "text/plain": [
              "<Figure size 432x288 with 1 Axes>"
            ],
            "image/png": "[encoded data removed]"
          },
          "metadata": {
            "needs_background": "light"
          }
        }
      ]
    }
  ]
}