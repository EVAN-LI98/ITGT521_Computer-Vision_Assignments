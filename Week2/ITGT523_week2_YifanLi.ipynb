{
 "cells": [
  {
   "cell_type": "code",
   "execution_count": 1,
   "id": "e669225f",
   "metadata": {},
   "outputs": [],
   "source": [
    "import numpy as np\n",
    "import cv2\n",
    "\n",
    "#彩色的colorful\n",
    "cap = cv2.VideoCapture(0)\n",
    "while(True):\n",
    "   ret, frame = cap.read()\n",
    "   #gray = cv2.cvtColor(frame, cv2.COLOR_BGR2GRAY)\n",
    "   cv2.imshow('Input Video',frame)\n",
    "   if cv2.waitKey(1) & 0xFF== ord('q'):\n",
    "#按下q结束视频\n",
    "         break\n",
    "cap.release()\n",
    "cv2.destroyAllWindows()\n"
   ]
  },
  {
   "cell_type": "code",
   "execution_count": null,
   "id": "22753352",
   "metadata": {},
   "outputs": [],
   "source": [
    "import numpy as np\n",
    "import cv2\n",
    "\n",
    "#灰白的gray and white\n",
    "cap = cv2.VideoCapture(0)\n",
    "while(True):\n",
    "   ret, frame = cap.read()\n",
    "   gray = cv2.cvtColor(frame, cv2.COLOR_BGR2GRAY)\n",
    "   cv2.imshow('Input Video',gray)\n",
    "   if cv2.waitKey(1) & 0xFF== ord('q'):\n",
    "         break\n",
    "cap.release()\n",
    "cv2.destroyAllWindows()\n"
   ]
  },
  {
   "cell_type": "code",
   "execution_count": 2,
   "id": "323f379f",
   "metadata": {},
   "outputs": [
    {
     "name": "stdout",
     "output_type": "stream",
     "text": [
      "Requirement already satisfied: numpy in c:\\users\\78089\\anaconda3\\envs\\python3\\lib\\site-packages (1.24.0)\n"
     ]
    }
   ],
   "source": [
    "!pip install numpy"
   ]
  },
  {
   "cell_type": "code",
   "execution_count": 3,
   "id": "f9cafc4c",
   "metadata": {},
   "outputs": [
    {
     "name": "stdout",
     "output_type": "stream",
     "text": [
      "Requirement already satisfied: opencv-python in c:\\users\\78089\\anaconda3\\envs\\python3\\lib\\site-packages (4.6.0.66)\n",
      "Requirement already satisfied: numpy>=1.14.5 in c:\\users\\78089\\anaconda3\\envs\\python3\\lib\\site-packages (from opencv-python) (1.24.0)\n"
     ]
    }
   ],
   "source": [
    "!pip install opencv-python"
   ]
  },
  {
   "cell_type": "code",
   "execution_count": 4,
   "id": "17ccb8ac",
   "metadata": {},
   "outputs": [],
   "source": [
    "import numpy as np \n",
    "import cv2  \n",
    "\n",
    "#Assignment2.1\n",
    "#输出正常图片\n",
    "img = cv2.imread('YaoMing.jpg',cv2.IMREAD_COLOR) \n",
    "cv2.namedWindow('Input',cv2.WINDOW_AUTOSIZE)\n",
    "cv2.moveWindow('Input',20,10)\n",
    "#('图片的名字'，宽度，高度)\n",
    "cv2.imshow('Input',img)\n",
    "\n",
    "#HSV图片\n",
    "img_hsv = cv2.cvtColor(img, cv2.COLOR_BGR2HSV) \n",
    "#cv2.namedWindow('HSV',cv2.WINDOW_AUTOSIZE)\n",
    "cv2.namedWindow('Color convert',cv2.WINDOW_AUTOSIZE)\n",
    "#cv2.imshow('HSV',img_hsv)\n",
    "cv2.imshow('Color convert',img_hsv)\n",
    "\n",
    "#模糊图片，可以修改img之后的参数调整模糊大小,数字越大越模糊\n",
    "#img_blur = cv2.medianBlur (img,25)\n",
    "img_blur = cv2.medianBlur (img,13)\n",
    "#cv2.namedWindow('Blur',cv2.WINDOW_AUTOSIZE)\n",
    "cv2.namedWindow('Smooth',cv2.WINDOW_AUTOSIZE)\n",
    "#cv2.imshow('Blur',img_blur)\n",
    "cv2.imshow('Smooth',img_blur)\n",
    "\n",
    "cv2.waitKey(0)\n",
    "cv2.destroyAllWindows()\n"
   ]
  },
  {
   "cell_type": "code",
   "execution_count": null,
   "id": "4fe2154b",
   "metadata": {
    "scrolled": true
   },
   "outputs": [],
   "source": [
    "import numpy as np\n",
    "import cv2\n",
    "\n",
    "#Assignment2.2\n",
    "cap = cv2.VideoCapture('An.mp4')\n",
    "#导入视频的路径，如果是和默认路径则不需要添加前面的完整path，RGB视频\n",
    "frame_width= int(cap.get(3))\n",
    "#获得视频文件的帧宽\n",
    "frame_height= int(cap.get(4))\n",
    "#获得视频文件的帧高\n",
    "\n",
    "fourcc = cv2.VideoWriter_fourcc(*'MP4V')#格式为mp4\n",
    "#设置写入视频的编码格式\n",
    "out = cv2.VideoWriter('An_RGB.avi',fourcc,25,(frame_width,frame_height),False)\n",
    "#设置写视频的对象('文件名',视频格式,帧数,视频的长宽,颜色\"isColor=False\")\n",
    "#本作业最后输出的视频为黑白线条视频\n",
    "                \n",
    "while(True):\n",
    "    ret,frame = cap.read()\n",
    "    #按帧读取视频里的图片\n",
    "    #cv2.imshow('Input Video',frame)这个是输出正常视频\n",
    "    edges = cv2.Canny(frame,80,150)\n",
    "    out.write(edges)\n",
    "    cv2.imshow('An_RGB',edges)\n",
    "    if cv2.waitKey(20) and 0xFF == ord('q'):\n",
    "        break\n",
    "        \n",
    "cap.release()\n",
    "out.release()\n",
    "cv2.destroyAllWindows()"
   ]
  },
  {
   "cell_type": "code",
   "execution_count": null,
   "id": "8959de67",
   "metadata": {},
   "outputs": [],
   "source": [
    "import numpy as np\n",
    "import cv2\n",
    "\n",
    "#黑白线条摄像头\n",
    "cap = cv2.VideoCapture(0)\n",
    "#获取摄像头\n",
    "frame_width= int(cap.get(3))\n",
    "#获得视频文件的帧宽\n",
    "frame_height= int(cap.get(4))\n",
    "#获得视频文件的帧高\n",
    "\n",
    "fourcc = cv2.VideoWriter_fourcc(*'MJPG')\n",
    "#设置写入视频的编码格式\n",
    "out = cv2.VideoWriter('Output.avi',cv2.VideoWriter_fourcc(*'MJPG'),25,(frame_width,frame_height),False)\n",
    "#设置写视频的对象('文件名',视频格式,帧数,视频的长宽,颜色\"isColor=False\")\n",
    "#本作业最后输出的视频为黑白线条视频\n",
    "                \n",
    "while(True):\n",
    "    ret,frame = cap.read()\n",
    "    #按帧读取视频里的图片\n",
    "    edges = cv2.Canny(frame,80,160)\n",
    "    out.write(edges)\n",
    "    cv2.imshow('Output',edges)\n",
    "    if cv2.waitKey(10) and 0xFF == ord('q'):\n",
    "        break\n",
    "        \n",
    "cap.release()\n",
    "out.release()\n",
    "cv2.destroyAllWindows()"
   ]
  },
  {
   "cell_type": "code",
   "execution_count": 6,
   "id": "972a8ce0",
   "metadata": {},
   "outputs": [
    {
     "name": "stdout",
     "output_type": "stream",
     "text": [
      "Collecting ffmpeg-python\n",
      "  Downloading ffmpeg_python-0.2.0-py3-none-any.whl (25 kB)\n",
      "Collecting future\n",
      "  Downloading future-0.18.2.tar.gz (829 kB)\n",
      "     -------------------------------------- 829.2/829.2 kB 3.5 MB/s eta 0:00:00\n",
      "  Preparing metadata (setup.py): started\n",
      "  Preparing metadata (setup.py): finished with status 'done'\n",
      "Building wheels for collected packages: future\n",
      "  Building wheel for future (setup.py): started\n",
      "  Building wheel for future (setup.py): finished with status 'done'\n",
      "  Created wheel for future: filename=future-0.18.2-py3-none-any.whl size=491086 sha256=afdc2f3cf994926473d90c2e64bda16ea78cb97916b9666328cae420ff700450\n",
      "  Stored in directory: c:\\users\\78089\\appdata\\local\\pip\\cache\\wheels\\96\\66\\19\\2de75120f5d0bc185e9d16cf0fd223d8471ed025de08e45867\n",
      "Successfully built future\n",
      "Installing collected packages: future, ffmpeg-python\n",
      "Successfully installed ffmpeg-python-0.2.0 future-0.18.2\n"
     ]
    }
   ],
   "source": [
    "!pip install ffmpeg-python"
   ]
  },
  {
   "cell_type": "code",
   "execution_count": 2,
   "id": "24ae1abc",
   "metadata": {
    "scrolled": true
   },
   "outputs": [
    {
     "name": "stdout",
     "output_type": "stream",
     "text": [
      "30.0\n",
      "120\n",
      "420\n"
     ]
    }
   ],
   "source": [
    "import numpy as np\n",
    "import cv2\n",
    "\n",
    "#Assignment2.3\n",
    "start = 4\n",
    "#截取开始时间\n",
    "end = 14\n",
    "#截取结束时间\n",
    "\n",
    "cap = cv2.VideoCapture('Wlop.mp4')\n",
    "#视频导入路径 如果在默认文件夹下则不需要前面的路径只需要文件名字\n",
    "fps = cap.get(5)\n",
    "#读取视频的帧数\n",
    "print(fps)\n",
    "\n",
    "frame_width = int(cap.get(3))\n",
    "#获得视频文件的帧宽\n",
    "frame_height = int(cap.get(4))\n",
    "#获得视频文件的帧高\n",
    "\n",
    "#秒转换成帧 得到每秒的帧数\n",
    "ss_f = int(fps)*int(start)\n",
    "#视频的帧率和开始时间\n",
    "end_f = int(fps)*int(end)\n",
    "#视频的帧率和结束时间\n",
    "print(ss_f)\n",
    "print(end_f)\n",
    "\n",
    "fourcc = cv2.VideoWriter_fourcc(*'mp4v')\n",
    "#设置写入视频的编码格式(*'mp4格式的话用mp4v')其他的可以使用(*'XVID')(*'MJPG')等\n",
    "#FourCC是一个4字节码，用来确定视频的编码格式\n",
    "out = cv2.VideoWriter('Wlop_cut.avi',fourcc,int(fps),(frame_width,frame_height))\n",
    "#设置写视频的对象('文件名',视频格式,帧数,视频的长宽)\n",
    "\n",
    "count_f = 0\n",
    "#初始化一个计数器\n",
    "\n",
    "while(cap.isOpened()):\n",
    "    count_f = count_f+1\n",
    "    #计数器加一\n",
    "    ret, frame = cap.read()\n",
    "    #按帧读取视频里的图片\n",
    "    if (ret==True):\n",
    "        if(int(count_f)>int(ss_f) and (count_f)<int(end_f)):\n",
    "        #截取相应时间内的视频信息\n",
    "             out.write(frame)\n",
    "             #将图片写入视屏 保存帧\n",
    "        #if(int(count_f) == int(ss_f) and (count_f) == int(end_f)):\n",
    "              #break\n",
    "    else:\n",
    "        break\n",
    "    \n",
    "cap.release()\n",
    "out.release()\n",
    "cv2.destroyAllWindows()"
   ]
  },
  {
   "cell_type": "code",
   "execution_count": null,
   "id": "ba9585a6",
   "metadata": {},
   "outputs": [],
   "source": []
  },
  {
   "cell_type": "code",
   "execution_count": null,
   "id": "7225ab73",
   "metadata": {},
   "outputs": [],
   "source": []
  },
  {
   "cell_type": "code",
   "execution_count": null,
   "id": "2a840f50",
   "metadata": {},
   "outputs": [],
   "source": []
  }
 ],
 "metadata": {
  "kernelspec": {
   "display_name": "Python 3 (ipykernel)",
   "language": "python",
   "name": "python3"
  },
  "language_info": {
   "codemirror_mode": {
    "name": "ipython",
    "version": 3
   },
   "file_extension": ".py",
   "mimetype": "text/x-python",
   "name": "python",
   "nbconvert_exporter": "python",
   "pygments_lexer": "ipython3",
   "version": "3.9.15"
  }
 },
 "nbformat": 4,
 "nbformat_minor": 5
}
